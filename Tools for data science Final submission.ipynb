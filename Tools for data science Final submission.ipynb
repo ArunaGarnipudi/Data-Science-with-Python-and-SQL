{
 "cells": [
  {
   "cell_type": "markdown",
   "metadata": {},
   "source": [
    "# My Jupyter Notebook on IBM Watson Studio"
   ]
  },
  {
   "cell_type": "markdown",
   "metadata": {},
   "source": [
    "### ARUNA KUMAR GARNIPUDI\n",
    "*I am interested in data science because movitated by data*"
   ]
  },
  {
   "cell_type": "markdown",
   "metadata": {},
   "source": [
    "### Below Program describes the Sum of two digites"
   ]
  },
  {
   "cell_type": "code",
   "execution_count": 5,
   "metadata": {},
   "outputs": [
    {
     "name": "stdout",
     "output_type": "stream",
     "text": [
      "Sum of two digits :  2\n"
     ]
    }
   ],
   "source": [
    "a=1\n",
    "b=1\n",
    "print (\"Sum of two digits : \", a+b)"
   ]
  },
  {
   "attachments": {
    "Circle.png": {
     "image/png": "[encoded data removed]"
    }
   },
   "cell_type": "markdown",
   "metadata": {},
   "source": [
    "***\n",
    "horizontal rule\n",
    "***\n",
    "![Circle.png](attachment:Circle.png)\n",
    "\n",
    "[Link to IBM](https://www.ibm.com/us-en/)\n",
    "\n",
    ">BLOACKED QUOTES"
   ]
  }
 ],
 "metadata": {
  "kernelspec": {
   "display_name": "Python 3",
   "language": "python",
   "name": "python3"
  },
  "language_info": {
   "codemirror_mode": {
    "name": "ipython",
    "version": 3
   },
   "file_extension": ".py",
   "mimetype": "text/x-python",
   "name": "python",
   "nbconvert_exporter": "python",
   "pygments_lexer": "ipython3",
   "version": "3.8.3"
  }
 },
 "nbformat": 4,
 "nbformat_minor": 4
}
